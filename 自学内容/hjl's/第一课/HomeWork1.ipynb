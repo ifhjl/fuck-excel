{
 "cells": [
  {
   "cell_type": "code",
   "execution_count": null,
   "metadata": {},
   "outputs": [],
   "source": [
    "import pandas as pd"
   ]
  },
  {
   "cell_type": "code",
   "execution_count": null,
   "metadata": {},
   "outputs": [],
   "source": [
    "df = pd.read_csv(\"pokemon.csv\")"
   ]
  },
  {
   "cell_type": "code",
   "execution_count": null,
   "metadata": {},
   "outputs": [],
   "source": [
    "df.head()"
   ]
  },
  {
   "cell_type": "code",
   "execution_count": null,
   "metadata": {},
   "outputs": [],
   "source": [
    "#第一题\n",
    "df_1 = df[df.columns[5:]]\n",
    "df[\"If_Total_True\"] = df_1.T.sum() == df[\"Total\"]\n",
    "df[\"If_Total_True\"].value_counts()"
   ]
  },
  {
   "cell_type": "code",
   "execution_count": null,
   "metadata": {},
   "outputs": [],
   "source": [
    "#第二题\n",
    "df_2 = df.drop_duplicates(\"#\")\n",
    "print(\"第一属性的种类数量：{}\".format(len(df_2[\"Type 1\"].unique())))\n",
    "print(\"第一属性与第二属性的组合种类有{}种\".format(len(df_2[df.columns[2:4]].drop_duplicates([\"Type 1\",\"Type 2\"]))))\n",
    "exist = []\n",
    "for i in range(len(df_2[df.columns[2:4]].drop_duplicates([\"Type 1\",\"Type 2\"]).sort_values([\"Type 1\",\"Type 2\"]))):\n",
    "    exist.append([df_2[df.columns[2:4]].drop_duplicates([\"Type 1\",\"Type 2\"]).sort_values([\"Type 1\",\"Type 2\"]).iat[i,0],df_2[df.columns[2:4]].drop_duplicates([\"Type 1\",\"Type 2\"]).sort_values([\"Type 1\",\"Type 2\"]).iat[i,1]])\n",
    "all = []\n",
    "for i in df_2[\"Type 1\"].unique():\n",
    "    for j in df_2[\"Type 2\"].unique():\n",
    "        all.append([i,j])\n",
    "print(\"尚未出现的组合:{}\".format([i for i in all if i not in exist]))"
   ]
  },
  {
   "cell_type": "code",
   "execution_count": 97,
   "metadata": {},
   "outputs": [
    {
     "data": {
      "text/plain": [
       "0       low\n",
       "1       mid\n",
       "2       mid\n",
       "3       mid\n",
       "4       mid\n",
       "       ... \n",
       "795     mid\n",
       "796    high\n",
       "797     mid\n",
       "798    high\n",
       "799     mid\n",
       "Name: Attack, Length: 800, dtype: object"
      ]
     },
     "execution_count": 97,
     "metadata": {},
     "output_type": "execute_result"
    }
   ],
   "source": [
    "#第三题\n",
    "df[\"Attack\"].mask(df[\"Attack\"] > 120 ,\"high\").mask(df[\"Attack\"] < 50 ,\"low\").mask((df[\"Attack\"] <= 120)&(df[\"Attack\"]>=50),\"mid\")\n"
   ]
  },
  {
   "cell_type": "code",
   "execution_count": 99,
   "metadata": {},
   "outputs": [
    {
     "data": {
      "text/plain": [
       "0        GRASS\n",
       "1        GRASS\n",
       "2        GRASS\n",
       "3        GRASS\n",
       "4         FIRE\n",
       "        ...   \n",
       "795       ROCK\n",
       "796       ROCK\n",
       "797    PSYCHIC\n",
       "798    PSYCHIC\n",
       "799       FIRE\n",
       "Name: Type 1, Length: 800, dtype: object"
      ]
     },
     "execution_count": 99,
     "metadata": {},
     "output_type": "execute_result"
    }
   ],
   "source": [
    "df[\"Type 1\"].replace({i :str.upper(i) for i in df[\"Type 1\"].unique()})\n",
    "df[\"Type 1\"].apply(lambda x: str.upper(x))"
   ]
  },
  {
   "cell_type": "code",
   "execution_count": null,
   "metadata": {},
   "outputs": [],
   "source": []
  }
 ],
 "metadata": {
  "kernelspec": {
   "display_name": "Python 3",
   "language": "python",
   "name": "python3"
  },
  "language_info": {
   "codemirror_mode": {
    "name": "ipython",
    "version": 3
   },
   "file_extension": ".py",
   "mimetype": "text/x-python",
   "name": "python",
   "nbconvert_exporter": "python",
   "pygments_lexer": "ipython3",
   "version": "3.10.10"
  },
  "orig_nbformat": 4,
  "vscode": {
   "interpreter": {
    "hash": "1d607ee2c6dce6460677e985a9e52757bd7827b557088d6365f784c00ea0363e"
   }
  }
 },
 "nbformat": 4,
 "nbformat_minor": 2
}
